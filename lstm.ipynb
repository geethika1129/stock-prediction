{
 "cells": [
  {
   "cell_type": "code",
   "execution_count": 1,
   "metadata": {},
   "outputs": [],
   "source": [
    "import numpy as np\n",
    "import pandas as pd\n",
    "import matplotlib.pyplot as plt\n",
    "%matplotlib inline"
   ]
  },
  {
   "cell_type": "code",
   "execution_count": 2,
   "metadata": {},
   "outputs": [],
   "source": [
    "\n",
    "\n",
    "dataset_train = pd.read_csv('Google_Stock_Price_Train.csv')"
   ]
  },
  {
   "cell_type": "code",
   "execution_count": 3,
   "metadata": {},
   "outputs": [
    {
     "data": {
      "text/html": [
       "<div>\n",
       "<style scoped>\n",
       "    .dataframe tbody tr th:only-of-type {\n",
       "        vertical-align: middle;\n",
       "    }\n",
       "\n",
       "    .dataframe tbody tr th {\n",
       "        vertical-align: top;\n",
       "    }\n",
       "\n",
       "    .dataframe thead th {\n",
       "        text-align: right;\n",
       "    }\n",
       "</style>\n",
       "<table border=\"1\" class=\"dataframe\">\n",
       "  <thead>\n",
       "    <tr style=\"text-align: right;\">\n",
       "      <th></th>\n",
       "      <th>Date</th>\n",
       "      <th>Open</th>\n",
       "      <th>High</th>\n",
       "      <th>Low</th>\n",
       "      <th>Close</th>\n",
       "      <th>Volume</th>\n",
       "    </tr>\n",
       "  </thead>\n",
       "  <tbody>\n",
       "    <tr>\n",
       "      <th>0</th>\n",
       "      <td>1/3/2012</td>\n",
       "      <td>325.25</td>\n",
       "      <td>332.83</td>\n",
       "      <td>324.97</td>\n",
       "      <td>663.59</td>\n",
       "      <td>7,380,500</td>\n",
       "    </tr>\n",
       "    <tr>\n",
       "      <th>1</th>\n",
       "      <td>1/4/2012</td>\n",
       "      <td>331.27</td>\n",
       "      <td>333.87</td>\n",
       "      <td>329.08</td>\n",
       "      <td>666.45</td>\n",
       "      <td>5,749,400</td>\n",
       "    </tr>\n",
       "    <tr>\n",
       "      <th>2</th>\n",
       "      <td>1/5/2012</td>\n",
       "      <td>329.83</td>\n",
       "      <td>330.75</td>\n",
       "      <td>326.89</td>\n",
       "      <td>657.21</td>\n",
       "      <td>6,590,300</td>\n",
       "    </tr>\n",
       "    <tr>\n",
       "      <th>3</th>\n",
       "      <td>1/6/2012</td>\n",
       "      <td>328.34</td>\n",
       "      <td>328.77</td>\n",
       "      <td>323.68</td>\n",
       "      <td>648.24</td>\n",
       "      <td>5,405,900</td>\n",
       "    </tr>\n",
       "    <tr>\n",
       "      <th>4</th>\n",
       "      <td>1/9/2012</td>\n",
       "      <td>322.04</td>\n",
       "      <td>322.29</td>\n",
       "      <td>309.46</td>\n",
       "      <td>620.76</td>\n",
       "      <td>11,688,800</td>\n",
       "    </tr>\n",
       "  </tbody>\n",
       "</table>\n",
       "</div>"
      ],
      "text/plain": [
       "       Date    Open    High     Low   Close      Volume\n",
       "0  1/3/2012  325.25  332.83  324.97  663.59   7,380,500\n",
       "1  1/4/2012  331.27  333.87  329.08  666.45   5,749,400\n",
       "2  1/5/2012  329.83  330.75  326.89  657.21   6,590,300\n",
       "3  1/6/2012  328.34  328.77  323.68  648.24   5,405,900\n",
       "4  1/9/2012  322.04  322.29  309.46  620.76  11,688,800"
      ]
     },
     "execution_count": 3,
     "metadata": {},
     "output_type": "execute_result"
    }
   ],
   "source": [
    "dataset_train.head()"
   ]
  },
  {
   "cell_type": "code",
   "execution_count": 4,
   "metadata": {},
   "outputs": [
    {
     "data": {
      "text/plain": [
       "Date      0\n",
       "Open      0\n",
       "High      0\n",
       "Low       0\n",
       "Close     0\n",
       "Volume    0\n",
       "dtype: int64"
      ]
     },
     "execution_count": 4,
     "metadata": {},
     "output_type": "execute_result"
    }
   ],
   "source": [
    "dataset_train.isna().sum()"
   ]
  },
  {
   "cell_type": "code",
   "execution_count": 7,
   "metadata": {},
   "outputs": [
    {
     "name": "stdout",
     "output_type": "stream",
     "text": [
      "[[325.25]\n",
      " [331.27]\n",
      " [329.83]\n",
      " ...\n",
      " [793.7 ]\n",
      " [783.33]\n",
      " [782.75]]\n"
     ]
    },
    {
     "data": {
      "text/plain": [
       "(1258, 1)"
      ]
     },
     "execution_count": 7,
     "metadata": {},
     "output_type": "execute_result"
    }
   ],
   "source": [
    "X = dataset_train.iloc[: , 1:2].values\n",
    "print(X)\n",
    "X.shape"
   ]
  },
  {
   "cell_type": "code",
   "execution_count": 8,
   "metadata": {},
   "outputs": [
    {
     "data": {
      "text/plain": [
       "array([[0.08581368],\n",
       "       [0.09701243],\n",
       "       [0.09433366],\n",
       "       ...,\n",
       "       [0.95725128],\n",
       "       [0.93796041],\n",
       "       [0.93688146]])"
      ]
     },
     "execution_count": 8,
     "metadata": {},
     "output_type": "execute_result"
    }
   ],
   "source": [
    "from sklearn.preprocessing import MinMaxScaler\n",
    "sc = MinMaxScaler(feature_range=(0,1))\n",
    "X = sc.fit_transform(X)\n",
    "X"
   ]
  },
  {
   "cell_type": "code",
   "execution_count": 9,
   "metadata": {},
   "outputs": [],
   "source": [
    "x_train = []\n",
    "y_train = []\n",
    "for i in range(60 ,1258 ):\n",
    "  x_train.append(X[i-60:i,0])\n",
    "  y_train.append(X[i,0])\n",
    "     "
   ]
  },
  {
   "cell_type": "code",
   "execution_count": 10,
   "metadata": {},
   "outputs": [],
   "source": [
    "x_train = np.array(x_train)\n",
    "y_train = np.array(y_train)\n"
   ]
  },
  {
   "cell_type": "code",
   "execution_count": 11,
   "metadata": {},
   "outputs": [
    {
     "data": {
      "text/plain": [
       "(1258, 1)"
      ]
     },
     "execution_count": 11,
     "metadata": {},
     "output_type": "execute_result"
    }
   ],
   "source": [
    "X.shape"
   ]
  },
  {
   "cell_type": "code",
   "execution_count": 12,
   "metadata": {},
   "outputs": [],
   "source": [
    "x_train = np.reshape(x_train , (x_train.shape[0] , x_train.shape[1],1))"
   ]
  },
  {
   "cell_type": "code",
   "execution_count": 13,
   "metadata": {},
   "outputs": [
    {
     "data": {
      "text/plain": [
       "(1198, 60, 1)"
      ]
     },
     "execution_count": 13,
     "metadata": {},
     "output_type": "execute_result"
    }
   ],
   "source": [
    "\n",
    "x_train.shape"
   ]
  },
  {
   "cell_type": "code",
   "execution_count": 14,
   "metadata": {},
   "outputs": [],
   "source": [
    "from keras.models import Sequential\n",
    "from keras.layers import Dense\n",
    "from keras.layers import LSTM\n",
    "from keras.layers import Dropout"
   ]
  },
  {
   "cell_type": "code",
   "execution_count": 15,
   "metadata": {},
   "outputs": [],
   "source": [
    "regressor  = Sequential()\n",
    "regressor.add(LSTM(units=50 , return_sequences=True, input_shape = (x_train.shape[1] , 1)))\n",
    "regressor.add(Dropout(rate=0.2))\n",
    "regressor.add(LSTM(units=50 , return_sequences=True))\n",
    "regressor.add(Dropout(0.2))\n",
    "regressor.add(LSTM(units=50 , return_sequences=True))\n",
    "regressor.add(Dropout(0.1))\n",
    "regressor.add(LSTM(units=50))\n",
    "regressor.add(Dropout(0.2))\n",
    "regressor.add(Dense(units=1)) "
   ]
  },
  {
   "cell_type": "code",
   "execution_count": 16,
   "metadata": {},
   "outputs": [],
   "source": [
    "\n",
    "regressor.compile(optimizer='adam' , loss='mean_squared_error')"
   ]
  },
  {
   "cell_type": "code",
   "execution_count": 17,
   "metadata": {},
   "outputs": [
    {
     "name": "stdout",
     "output_type": "stream",
     "text": [
      "Epoch 1/200\n",
      "38/38 [==============================] - 40s 290ms/step - loss: 0.0473\n",
      "Epoch 2/200\n",
      "38/38 [==============================] - 10s 259ms/step - loss: 0.0056\n",
      "Epoch 3/200\n",
      "38/38 [==============================] - 10s 267ms/step - loss: 0.0055\n",
      "Epoch 4/200\n",
      "38/38 [==============================] - 10s 270ms/step - loss: 0.0052\n",
      "Epoch 5/200\n",
      "38/38 [==============================] - 11s 296ms/step - loss: 0.0055\n",
      "Epoch 6/200\n",
      "38/38 [==============================] - 10s 268ms/step - loss: 0.0050\n",
      "Epoch 7/200\n",
      "38/38 [==============================] - 12s 305ms/step - loss: 0.0044\n",
      "Epoch 8/200\n",
      "38/38 [==============================] - 10s 272ms/step - loss: 0.0045\n",
      "Epoch 9/200\n",
      "38/38 [==============================] - 10s 275ms/step - loss: 0.0044\n",
      "Epoch 10/200\n",
      "38/38 [==============================] - 11s 285ms/step - loss: 0.0039\n",
      "Epoch 11/200\n",
      "38/38 [==============================] - 11s 283ms/step - loss: 0.0043\n",
      "Epoch 12/200\n",
      "38/38 [==============================] - 10s 275ms/step - loss: 0.0044\n",
      "Epoch 13/200\n",
      "38/38 [==============================] - 10s 272ms/step - loss: 0.0039\n",
      "Epoch 14/200\n",
      "38/38 [==============================] - 9s 251ms/step - loss: 0.0047\n",
      "Epoch 15/200\n",
      "38/38 [==============================] - 11s 291ms/step - loss: 0.0039\n",
      "Epoch 16/200\n",
      "38/38 [==============================] - 11s 279ms/step - loss: 0.0037\n",
      "Epoch 17/200\n",
      "38/38 [==============================] - 11s 293ms/step - loss: 0.0034\n",
      "Epoch 18/200\n",
      "38/38 [==============================] - 10s 272ms/step - loss: 0.0038\n",
      "Epoch 19/200\n",
      "38/38 [==============================] - 11s 291ms/step - loss: 0.0034\n",
      "Epoch 20/200\n",
      "38/38 [==============================] - 11s 303ms/step - loss: 0.0036\n",
      "Epoch 21/200\n",
      "38/38 [==============================] - 11s 295ms/step - loss: 0.0034\n",
      "Epoch 22/200\n",
      "38/38 [==============================] - 11s 300ms/step - loss: 0.0033\n",
      "Epoch 23/200\n",
      "38/38 [==============================] - 11s 294ms/step - loss: 0.0031\n",
      "Epoch 24/200\n",
      "38/38 [==============================] - 11s 298ms/step - loss: 0.0032\n",
      "Epoch 25/200\n",
      "38/38 [==============================] - 11s 284ms/step - loss: 0.0038\n",
      "Epoch 26/200\n",
      "38/38 [==============================] - 11s 299ms/step - loss: 0.0034\n",
      "Epoch 27/200\n",
      "38/38 [==============================] - 11s 283ms/step - loss: 0.0032\n",
      "Epoch 28/200\n",
      "38/38 [==============================] - 11s 292ms/step - loss: 0.0030\n",
      "Epoch 29/200\n",
      "38/38 [==============================] - 10s 251ms/step - loss: 0.0028\n",
      "Epoch 30/200\n",
      "38/38 [==============================] - 11s 285ms/step - loss: 0.0028\n",
      "Epoch 31/200\n",
      "38/38 [==============================] - 10s 261ms/step - loss: 0.0031\n",
      "Epoch 32/200\n",
      "38/38 [==============================] - 11s 295ms/step - loss: 0.0029\n",
      "Epoch 33/200\n",
      "38/38 [==============================] - 12s 309ms/step - loss: 0.0032\n",
      "Epoch 34/200\n",
      "38/38 [==============================] - 12s 306ms/step - loss: 0.0034\n",
      "Epoch 35/200\n",
      "38/38 [==============================] - 11s 284ms/step - loss: 0.0027\n",
      "Epoch 36/200\n",
      "38/38 [==============================] - 10s 256ms/step - loss: 0.0028\n",
      "Epoch 37/200\n",
      "38/38 [==============================] - 11s 291ms/step - loss: 0.0027\n",
      "Epoch 38/200\n",
      "38/38 [==============================] - 11s 290ms/step - loss: 0.0024\n",
      "Epoch 39/200\n",
      "38/38 [==============================] - 10s 259ms/step - loss: 0.0026\n",
      "Epoch 40/200\n",
      "38/38 [==============================] - 11s 296ms/step - loss: 0.0025\n",
      "Epoch 41/200\n",
      "38/38 [==============================] - 12s 307ms/step - loss: 0.0025\n",
      "Epoch 42/200\n",
      "38/38 [==============================] - 11s 296ms/step - loss: 0.0024\n",
      "Epoch 43/200\n",
      "38/38 [==============================] - 10s 274ms/step - loss: 0.0027\n",
      "Epoch 44/200\n",
      "38/38 [==============================] - 10s 272ms/step - loss: 0.0023\n",
      "Epoch 45/200\n",
      "38/38 [==============================] - 10s 272ms/step - loss: 0.0024\n",
      "Epoch 46/200\n",
      "38/38 [==============================] - 11s 285ms/step - loss: 0.0026\n",
      "Epoch 47/200\n",
      "38/38 [==============================] - 11s 284ms/step - loss: 0.0023\n",
      "Epoch 48/200\n",
      "38/38 [==============================] - 11s 290ms/step - loss: 0.0024\n",
      "Epoch 49/200\n",
      "38/38 [==============================] - 10s 271ms/step - loss: 0.0027\n",
      "Epoch 50/200\n",
      "38/38 [==============================] - 10s 270ms/step - loss: 0.0021\n",
      "Epoch 51/200\n",
      "38/38 [==============================] - 12s 318ms/step - loss: 0.0024\n",
      "Epoch 52/200\n",
      "38/38 [==============================] - 13s 331ms/step - loss: 0.0024\n",
      "Epoch 53/200\n",
      "38/38 [==============================] - 12s 324ms/step - loss: 0.0022\n",
      "Epoch 54/200\n",
      "38/38 [==============================] - 12s 313ms/step - loss: 0.0021\n",
      "Epoch 55/200\n",
      "38/38 [==============================] - 11s 295ms/step - loss: 0.0020\n",
      "Epoch 56/200\n",
      "38/38 [==============================] - 10s 274ms/step - loss: 0.0023\n",
      "Epoch 57/200\n",
      "38/38 [==============================] - 10s 259ms/step - loss: 0.0018\n",
      "Epoch 58/200\n",
      "38/38 [==============================] - 10s 269ms/step - loss: 0.0020\n",
      "Epoch 59/200\n",
      "38/38 [==============================] - 10s 268ms/step - loss: 0.0022\n",
      "Epoch 60/200\n",
      "38/38 [==============================] - 10s 265ms/step - loss: 0.0022\n",
      "Epoch 61/200\n",
      "38/38 [==============================] - 11s 302ms/step - loss: 0.0019\n",
      "Epoch 62/200\n",
      "38/38 [==============================] - 11s 283ms/step - loss: 0.0020\n",
      "Epoch 63/200\n",
      "38/38 [==============================] - 11s 301ms/step - loss: 0.0022\n",
      "Epoch 64/200\n",
      "23/38 [=================>............] - ETA: 4s - loss: 0.0017"
     ]
    }
   ],
   "source": [
    "\n",
    "regressor.fit(x_train , y_train , epochs=200,batch_size=32)"
   ]
  },
  {
   "cell_type": "code",
   "execution_count": null,
   "metadata": {},
   "outputs": [],
   "source": [
    "dtest=pd.read_csv(\"Google_Stock_Price_Test.csv\")\n",
    "actual=dtest.iloc[:,1:2].values"
   ]
  },
  {
   "cell_type": "code",
   "execution_count": null,
   "metadata": {},
   "outputs": [],
   "source": [
    "dataset_total = pd.concat((dataset_train ['Open'], dtest[ 'Open']), axis = 0)\n",
    "inputs = dataset_total[len(dataset_total)- len (dtest)-60:].values\n",
    "inputs = inputs.reshape(-1,1)\n",
    "inputs = sc.transform(inputs)\n",
    "X_test = []\n",
    "for i in range(60,80):\n",
    "     X_test. append(inputs[1-60:1, 0])\n",
    "X_test = np.array(X_test)\n",
    "X_test = np.reshape(X_test, (X_test.shape[0], X_test. shape[1], 1))\n"
   ]
  },
  {
   "cell_type": "code",
   "execution_count": null,
   "metadata": {},
   "outputs": [],
   "source": [
    "predicted_stock_price = regressor.predict(x_test)\n",
    "predicted_stock_price = sc. inverse_transform(predicted_stock_price)\n"
   ]
  },
  {
   "cell_type": "code",
   "execution_count": null,
   "metadata": {},
   "outputs": [],
   "source": []
  }
 ],
 "metadata": {
  "kernelspec": {
   "display_name": "Python 3",
   "language": "python",
   "name": "python3"
  },
  "language_info": {
   "codemirror_mode": {
    "name": "ipython",
    "version": 3
   },
   "file_extension": ".py",
   "mimetype": "text/x-python",
   "name": "python",
   "nbconvert_exporter": "python",
   "pygments_lexer": "ipython3",
   "version": "3.10.2"
  },
  "orig_nbformat": 4,
  "vscode": {
   "interpreter": {
    "hash": "27f6fea6f47ae512550f0b8facdbd035a93e1dd89633f7bf2dd00a2502c71d0d"
   }
  }
 },
 "nbformat": 4,
 "nbformat_minor": 2
}
